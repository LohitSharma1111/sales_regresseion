{
 "cells": [
  {
   "cell_type": "code",
   "execution_count": 1,
   "id": "28fa3442",
   "metadata": {},
   "outputs": [
    {
     "data": {
      "text/plain": [
       "0.09452196140978564"
      ]
     },
     "execution_count": 1,
     "metadata": {},
     "output_type": "execute_result"
    }
   ],
   "source": [
    "#Import reqired libraries\n",
    "import pandas as pd\n",
    "from sklearn.preprocessing import OneHotEncoder\n",
    "from sklearn.compose import ColumnTransformer\n",
    "from sklearn.impute import SimpleImputer\n",
    "from sklearn.pipeline import Pipeline\n",
    "\n",
    "#getting data ready\n",
    "\n",
    "data = pd.read_csv(\"car_sales_missing.csv\")\n",
    "data.dropna(subset=[\"Price\"],inplace=True)\n",
    "\n",
    "#model preparing\n",
    "\n",
    "from sklearn.ensemble import RandomForestRegressor\n",
    "from sklearn.model_selection import train_test_split,GridSearchCV\n",
    "\n",
    "#setting up randomseed\n",
    "\n",
    "import numpy as np\n",
    "np.random.seed(34)\n",
    "\n",
    "\n",
    "#defining features and transformers pipeline\n",
    "\n",
    "categorical_features = [\"Make\",\"Colour\"]\n",
    "categorical_transformers= Pipeline(steps=[\n",
    "    (\"imputer\",SimpleImputer(strategy=\"constant\",fill_value=\"missing\")),\n",
    "    (\"OneHot\",OneHotEncoder(handle_unknown=\"ignore\"))\n",
    "])\n",
    "\n",
    "\n",
    "doors_features = [\"Doors\"]\n",
    "doors_transformers = Pipeline(steps=[\n",
    "    (\"imputer\",SimpleImputer(strategy=\"constant\",fill_value=4))\n",
    "])\n",
    "\n",
    "numerical_features = [\"Odometer (KM)\"]\n",
    "numerical_transformers = Pipeline(steps=[\n",
    "(\"imputer\",SimpleImputer(strategy=\"mean\",fill_value=\"mean\"))\n",
    "])\n",
    "\n",
    "\n",
    "#settingup preprocessing (fill missing values and covert categories to numericals)\n",
    "\n",
    "preprocessor = ColumnTransformer(transformers=[\n",
    "   ( \"cat\",categorical_transformers,categorical_features),\n",
    "   ( \"doors\",doors_transformers,doors_features),\n",
    "    (\"num\",numerical_transformers,numerical_features)\n",
    "])\n",
    "\n",
    "\n",
    "\n",
    "#creating features and pipeline\n",
    "model = Pipeline(steps=[\n",
    "    (\"preprocessor\",preprocessor),\n",
    "    (\"model\",RandomForestRegressor())\n",
    "])\n",
    "\n",
    "#split the data \n",
    "\n",
    "X= data.drop(\"Price\",axis=1)\n",
    "y=data[\"Price\"]\n",
    "\n",
    "X_train,X_test,y_train,y_test = train_test_split(X,y,test_size=0.2)\n",
    "model.fit(X_train,y_train)\n",
    "model.score(X_test,y_test)\n"
   ]
  },
  {
   "cell_type": "code",
   "execution_count": null,
   "id": "95fde30b",
   "metadata": {},
   "outputs": [],
   "source": []
  }
 ],
 "metadata": {
  "kernelspec": {
   "display_name": "Python 3 (ipykernel)",
   "language": "python",
   "name": "python3"
  },
  "language_info": {
   "codemirror_mode": {
    "name": "ipython",
    "version": 3
   },
   "file_extension": ".py",
   "mimetype": "text/x-python",
   "name": "python",
   "nbconvert_exporter": "python",
   "pygments_lexer": "ipython3",
   "version": "3.11.5"
  }
 },
 "nbformat": 4,
 "nbformat_minor": 5
}
